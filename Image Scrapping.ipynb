{
 "cells": [
  {
   "cell_type": "code",
   "execution_count": 1,
   "id": "69a2fce4",
   "metadata": {},
   "outputs": [],
   "source": [
    "import requests\n",
    "import logging\n",
    "import os\n",
    "from bs4 import BeautifulSoup\n",
    "from urllib.request import urlopen"
   ]
  },
  {
   "cell_type": "code",
   "execution_count": 2,
   "id": "68b7f538",
   "metadata": {},
   "outputs": [],
   "source": [
    "save_dir = \"images/\"\n",
    "if not os.path.exists(save_dir):\n",
    "    os.makedirs(save_dir)"
   ]
  },
  {
   "cell_type": "code",
   "execution_count": 3,
   "id": "005ecc7d",
   "metadata": {},
   "outputs": [],
   "source": [
    "query = \"Sports Cars\"\n",
    "url = f\"https://www.google.com/search?sca_esv=555418388&sxsrf=AB5stBiG6BNlPufmTxmm85N9byuiAYlCrg:1691662262725&q={query}&tbm=isch&source=lnms&sa=X&ved=2ahUKEwjrmf-B7dGAAxXpa2wGHYyeBukQ0pQJegQIDBAB&biw=1710&bih=921&dpr=2\""
   ]
  },
  {
   "cell_type": "code",
   "execution_count": 4,
   "id": "d29672b7",
   "metadata": {},
   "outputs": [
    {
     "data": {
      "text/plain": [
       "<Response [200]>"
      ]
     },
     "execution_count": 4,
     "metadata": {},
     "output_type": "execute_result"
    }
   ],
   "source": [
    "response = requests.get(url)\n",
    "response"
   ]
  },
  {
   "cell_type": "code",
   "execution_count": 5,
   "id": "9387bc17",
   "metadata": {},
   "outputs": [
    {
     "data": {
      "text/plain": [
       "<!DOCTYPE html PUBLIC \"-//WAPFORUM//DTD XHTML Mobile 1.0//EN\" \"http://www.wapforum.org/DTD/xhtml-mobile10.dtd\">\n",
       "<html lang=\"en-IN\" xmlns=\"http://www.w3.org/1999/xhtml\"><head><meta content=\"application/xhtml+xml; charset=utf-8\" http-equiv=\"Content-Type\"/><meta content=\"no-cache\" name=\"Cache-Control\"/><title>Sports Cars - Google Search</title><style>a{text-decoration:none;color:inherit}a:hover{text-decoration:underline}a img{border:0}body{font-family:arial,sans-serif;padding:8px;margin:0 auto;max-width:700px;min-width:240px;}.FbhRzb{border-left:thin solid #dadce0;border-right:thin solid #dadce0;border-top:thin solid #dadce0;height:40px;overflow:hidden}.n692Zd{margin-bottom:10px}.cvifge{height:40px;border-spacing:0}.QvGUP{height:40px;padding:0 8px 0 8px;vertical-align:top}.O4cRJf{height:40px;width:100%;padding:0;padding-right:16px}.O1ePr{height:40px;padding:0;vertical-align:top}.kgJEQe{height:36px;width:98px;vertical-align:top;margin-top:4px}.lXLRf{vertical-align:top}.MhzMZd{border:0;vertical-align:middle;font-size:14px;height:40px;padding:0;width:100%;padding-left:16px}.xB0fq{height:40px;border:none;font-size:14px;background-color:#1a73e8;color:#fff;padding:0 16px;margin:0;vertical-align:top;cursor:pointer}.xB0fq:focus{border:1px solid #1a73e8}.M7pB2{border:thin solid #dadce0;margin:0 0 3px 0;font-size:13px;font-weight:500;height:40px}.euZec{width:100%;height:40px;text-align:center;border-spacing:0}table.euZec td{padding:0;width:25%}.QIqI7{display:inline-block;padding-top:4px;font-weight:bold;color:#4285f4}.EY24We{border-bottom:2px solid #4285f4}.CsQyDc{display:inline-block;color:#70757a}.TuS8Ad{font-size:14px}.HddGcc{padding:8px;color:#70757a}.dzp8ae{font-weight:bold;color:#3c4043}.rEM8G{color:#70757a}.bookcf{table-layout:fixed;width:100%;border-spacing:0}.InWNIe{text-align:center}.uZgmoc{border:thin solid #dadce0;color:#70757a;font-size:14px;text-align:center;table-layout:fixed;width:100%}.frGj1b{display:block;padding:12px 0 12px 0;width:100%}.BnJWBc{text-align:center;padding:6px 0 13px 0;height:35px}.e3goi{vertical-align:top;padding:0;height:180px}.GpQGbf{margin:auto;border-collapse:collapse;border-spacing:0;width:100%}</style></head><body><style>.X6ZCif{color:#202124;font-size:11px;line-height:16px;display:inline-block;padding-top:2px;overflow:hidden;padding-bottom:4px;width:100%}.TwVfHd{border-radius:16px;border:thin solid #dadce0;display:inline-block;padding:8px 8px;margin-right:8px;margin-bottom:4px}.yekiAe{background-color:#dadce0}.mnTahd{width:100%}.ezO2md{border:thin solid #dadce0;padding:12px 16px 12px 16px;margin-bottom:10px;font-family:arial,sans-serif}.lIMUZd{font-family:arial,sans-serif}.IkMU6e{border-spacing:0}.SjCsie{width:100%}.EnarA{text-align:center}.NZWO1b{width:162px;height:140px;line-height:140px;overflow:'hidden';text-align:center}.yWs4tf{text-align:center;margin:auto;vertical-align:middle;max-width:162px;max-height:140px}.jB2rPd{padding-top:2px;padding-bottom:8px;}.fYyStc{word-break:break-word}.ynsChf{display:block;white-space:nowrap;overflow:hidden;text-overflow:ellipsis}.Fj3V3b{color:#1967d2;font-size:14px;line-height:20px}.FrIlee{color:#202124;font-size:11px;line-height:16px}.F9iS2e{color:#70757a;font-size:11px;line-height:16px}.WMQ2Le{color:#70757a;font-size:12px;line-height:16px}.x3G5ab{color:#202124;font-size:12px;line-height:16px}.fuLhoc{color:#1967d2;font-size:16px;line-height:20px}.epoveb{font-size:24px;line-height:28px;font-weight:400;color:#202124}.dXDvrc{color:#0d652d;font-size:14px;line-height:20px;word-wrap:break-word}.dloBPe{font-weight:bold}.YVIcad{color:#70757a}.JkVVdd{color:#ea4335}.oXZRFd{color:#ea4335}.MQHtg{color:#fbbc04}.pyMRrb{color:#1e8e3e}.EtTZid{color:#1e8e3e}.M3vVJe{color:#1967d2}.qXLe6d{display:block}.NHQNef{font-style:italic}.Cb8Z7c{white-space:pre}a.ZWRArf{text-decoration:none}a .CVA68e:hover{text-decoration:underline}</style><div class=\"n692Zd\"><div class=\"BnJWBc\"><a class=\"lXLRf\" href=\"/?sa=X&amp;sca_esv=555418388&amp;biw=1710&amp;bih=921&amp;output=images&amp;ie=UTF-8&amp;tbm=isch&amp;ved=0ahUKEwivzc37odSAAxWhzjgGHZHNBt0QPAgC\"><img alt=\"Google\" class=\"kgJEQe\" src=\"/images/branding/searchlogo/1x/googlelogo_desk_heirloom_color_150x55dp.gif\"/></a></div><div class=\"FbhRzb\"><form action=\"/search\"><input name=\"sca_esv\" type=\"hidden\" value=\"555418388\"/><input name=\"biw\" type=\"hidden\" value=\"1710\"/><input name=\"bih\" type=\"hidden\" value=\"921\"/><input name=\"ie\" type=\"hidden\" value=\"ISO-8859-1\"/><input name=\"tbm\" type=\"hidden\" value=\"isch\"/><input name=\"oq\" type=\"hidden\"/><input name=\"aqs\" type=\"hidden\"/><table class=\"cvifge\"><tr><td class=\"O4cRJf\"><input class=\"MhzMZd\" name=\"q\" type=\"text\" value=\"Sports Cars\"/></td><td class=\"O1ePr\"><input class=\"xB0fq\" type=\"submit\" value=\"Search\"/></td></tr></table></form></div><div class=\"M7pB2\"><table class=\"euZec\"><tbody><tr><td><a class=\"CsQyDc\" href=\"/search?q=Sports+Cars&amp;sca_esv=555418388&amp;biw=1710&amp;bih=921&amp;ie=UTF-8&amp;source=lnms&amp;sa=X&amp;ved=0ahUKEwivzc37odSAAxWhzjgGHZHNBt0Q_AUIBCgA\">ALL</a></td><td class=\"EY24We\"><span class=\"QIqI7\">IMAGES</span></td><td><a class=\"CsQyDc\" href=\"/search?q=Sports+Cars&amp;sca_esv=555418388&amp;biw=1710&amp;bih=921&amp;ie=UTF-8&amp;tbm=nws&amp;source=lnms&amp;sa=X&amp;ved=0ahUKEwivzc37odSAAxWhzjgGHZHNBt0Q_AUIBigC\">NEWS</a></td><td><a class=\"CsQyDc\" href=\"/search?q=Sports+Cars&amp;sca_esv=555418388&amp;biw=1710&amp;bih=921&amp;ie=UTF-8&amp;tbm=vid&amp;source=lnms&amp;sa=X&amp;ved=0ahUKEwivzc37odSAAxWhzjgGHZHNBt0Q_AUIBygD\">VIDEOS</a></td></tr></tbody></table></div></div><div class=\"X6ZCif\"><a class=\"TwVfHd\" href=\"/search?sca_esv=555418388&amp;biw=1710&amp;bih=921&amp;ie=UTF-8&amp;tbm=isch&amp;q=Sports+Cars&amp;chips=q:sports+car,g_1:lamborghini&amp;sa=X&amp;ved=0ahUKEwivzc37odSAAxWhzjgGHZHNBt0Q4lYICygA\">lamborghini</a><a class=\"TwVfHd\" href=\"/search?sca_esv=555418388&amp;biw=1710&amp;bih=921&amp;ie=UTF-8&amp;tbm=isch&amp;q=Sports+Cars&amp;chips=q:sports+car,g_1:ferrari&amp;sa=X&amp;ved=0ahUKEwivzc37odSAAxWhzjgGHZHNBt0Q4lYIDCgB\">ferrari</a><a class=\"TwVfHd\" href=\"/search?sca_esv=555418388&amp;biw=1710&amp;bih=921&amp;ie=UTF-8&amp;tbm=isch&amp;q=Sports+Cars&amp;chips=q:sports+car,g_1:wallpaper&amp;sa=X&amp;ved=0ahUKEwivzc37odSAAxWhzjgGHZHNBt0Q4lYIDSgC\">wallpaper</a><a class=\"TwVfHd\" href=\"/search?sca_esv=555418388&amp;biw=1710&amp;bih=921&amp;ie=UTF-8&amp;tbm=isch&amp;q=Sports+Cars&amp;chips=q:sports+car,g_1:bugatti&amp;sa=X&amp;ved=0ahUKEwivzc37odSAAxWhzjgGHZHNBt0Q4lYIDigD\">bugatti</a><a class=\"TwVfHd\" href=\"/search?sca_esv=555418388&amp;biw=1710&amp;bih=921&amp;ie=UTF-8&amp;tbm=isch&amp;q=Sports+Cars&amp;chips=q:sports+car,g_1:mclaren&amp;sa=X&amp;ved=0ahUKEwivzc37odSAAxWhzjgGHZHNBt0Q4lYIDygE\">mclaren</a><a class=\"TwVfHd\" href=\"/search?sca_esv=555418388&amp;biw=1710&amp;bih=921&amp;ie=UTF-8&amp;tbm=isch&amp;q=Sports+Cars&amp;chips=q:sports+car,g_1:toyota&amp;sa=X&amp;ved=0ahUKEwivzc37odSAAxWhzjgGHZHNBt0Q4lYIECgF\">toyota</a><a class=\"TwVfHd\" href=\"/search?sca_esv=555418388&amp;biw=1710&amp;bih=921&amp;ie=UTF-8&amp;tbm=isch&amp;q=Sports+Cars&amp;chips=q:sports+car,g_1:porsche&amp;sa=X&amp;ved=0ahUKEwivzc37odSAAxWhzjgGHZHNBt0Q4lYIESgG\">porsche</a><a class=\"TwVfHd\" href=\"/search?sca_esv=555418388&amp;biw=1710&amp;bih=921&amp;ie=UTF-8&amp;tbm=isch&amp;q=Sports+Cars&amp;chips=q:sports+car,g_1:audi&amp;sa=X&amp;ved=0ahUKEwivzc37odSAAxWhzjgGHZHNBt0Q4lYIEigH\">audi</a><a class=\"TwVfHd\" href=\"/search?sca_esv=555418388&amp;biw=1710&amp;bih=921&amp;ie=UTF-8&amp;tbm=isch&amp;q=Sports+Cars&amp;chips=q:sports+car,g_1:jaguar&amp;sa=X&amp;ved=0ahUKEwivzc37odSAAxWhzjgGHZHNBt0Q4lYIEygI\">jaguar</a><a class=\"TwVfHd\" href=\"/search?sca_esv=555418388&amp;biw=1710&amp;bih=921&amp;ie=UTF-8&amp;tbm=isch&amp;q=Sports+Cars&amp;chips=q:sports+car,g_1:mercedes&amp;sa=X&amp;ved=0ahUKEwivzc37odSAAxWhzjgGHZHNBt0Q4lYIFCgJ\">mercedes</a></div><div><table class=\"GpQGbf\"><tr><td align=\"center\" class=\"e3goi\"><div class=\"mnTahd\"> <div> <div class=\"lIMUZd\"><div><table class=\"IkMU6e\"><tr><td><a href=\"/url?q=https://www.cars24.com/blog/best-sports-cars-in-india-in-2021-specifications-price-and-features/&amp;sa=U&amp;ved=2ahUKEwivzc37odSAAxWhzjgGHZHNBt0QqoUBegQIAxAB&amp;usg=AOvVaw16jDWwzOwgq-kcmvgjfVFV\"><div class=\"NZWO1b\"><img alt=\"\" class=\"yWs4tf\" src=\"https://encrypted-tbn0.gstatic.com/images?q=tbn:ANd9GcRl4kn4y-QEL0P-ciUnZVXml9VsnMuCCVzze-CMuChk1dsaPmra20ElNqVbcEs&amp;s\"/></div></a></td></tr><tr><td><a href=\"/url?q=https://www.cars24.com/blog/best-sports-cars-in-india-in-2021-specifications-price-and-features/&amp;sa=U&amp;ved=2ahUKEwivzc37odSAAxWhzjgGHZHNBt0Qr4kDegQIAxAC&amp;usg=AOvVaw1gri736vVYAx9XylYf7HnY\"><div class=\"jB2rPd\"> <span class=\"qXLe6d x3G5ab\"> <span class=\"fYyStc\">Best Sports Cars in India...</span> </span> <span class=\"qXLe6d F9iS2e\"> <span class=\"fYyStc\">www.cars24.com</span> </span> </div></a></td></tr></table></div></div> </div> </div></td><td align=\"center\" class=\"e3goi\"><div class=\"mnTahd\"> <div> <div class=\"lIMUZd\"><div><table class=\"IkMU6e\"><tr><td><a href=\"/url?q=https://www.autocar.co.uk/car-news/best-cars/top-10-best-hardcore-sports-cars&amp;sa=U&amp;ved=2ahUKEwivzc37odSAAxWhzjgGHZHNBt0QqoUBegQIExAB&amp;usg=AOvVaw0Tf3Tj-fpzuNmMa8Ls_2X-\"><div class=\"NZWO1b\"><img alt=\"\" class=\"yWs4tf\" src=\"https://encrypted-tbn0.gstatic.com/images?q=tbn:ANd9GcT9pDyWl5vG4CC9qvSD747-mombqIE162ktI6WOTXVQRgW_e-a0gRU8bYkOWXY&amp;s\"/></div></a></td></tr><tr><td><a href=\"/url?q=https://www.autocar.co.uk/car-news/best-cars/top-10-best-hardcore-sports-cars&amp;sa=U&amp;ved=2ahUKEwivzc37odSAAxWhzjgGHZHNBt0Qr4kDegQIExAC&amp;usg=AOvVaw0ZZoojnAFSrX28Ovxwc89f\"><div class=\"jB2rPd\"> <span class=\"qXLe6d x3G5ab\"> <span class=\"fYyStc\">Top 10 best hardcore sports...</span> </span> <span class=\"qXLe6d F9iS2e\"> <span class=\"fYyStc\">www.autocar.co.uk</span> </span> </div></a></td></tr></table></div></div> </div> </div></td><td align=\"center\" class=\"e3goi\"><div class=\"mnTahd\"> <div> <div class=\"lIMUZd\"><div><table class=\"IkMU6e\"><tr><td><a href=\"/url?q=https://www.roadandtrack.com/car-culture/g13132454/daily-driver-sports-cars/&amp;sa=U&amp;ved=2ahUKEwivzc37odSAAxWhzjgGHZHNBt0QqoUBegQIEhAB&amp;usg=AOvVaw2gyPQrXUcq70jVvF6OCnAi\"><div class=\"NZWO1b\"><img alt=\"\" class=\"yWs4tf\" src=\"https://encrypted-tbn0.gstatic.com/images?q=tbn:ANd9GcTFlByiyrn-gb8YlshcDTugExFgnXIbHUzjw-TvUNQYJFUw_cm2AkVsrXQnBQs&amp;s\"/></div></a></td></tr><tr><td><a href=\"/url?q=https://www.roadandtrack.com/car-culture/g13132454/daily-driver-sports-cars/&amp;sa=U&amp;ved=2ahUKEwivzc37odSAAxWhzjgGHZHNBt0Qr4kDegQIEhAC&amp;usg=AOvVaw2iIU0IOUeQHI4h0iqRj_kG\"><div class=\"jB2rPd\"> <span class=\"qXLe6d x3G5ab\"> <span class=\"fYyStc\">Sports Cars That Make Great...</span> </span> <span class=\"qXLe6d F9iS2e\"> <span class=\"fYyStc\">www.roadandtrack.com</span> </span> </div></a></td></tr></table></div></div> </div> </div></td><td align=\"center\" class=\"e3goi\"><div class=\"mnTahd\"> <div> <div class=\"lIMUZd\"><div><table class=\"IkMU6e\"><tr><td><a href=\"/url?q=https://www.carwow.co.uk/best/best-supercars&amp;sa=U&amp;ved=2ahUKEwivzc37odSAAxWhzjgGHZHNBt0QqoUBegQICRAB&amp;usg=AOvVaw14O0iINGc1hLuaCsUai9Je\"><div class=\"NZWO1b\"><img alt=\"\" class=\"yWs4tf\" src=\"https://encrypted-tbn0.gstatic.com/images?q=tbn:ANd9GcRPfdTL56hF87XAKEsl9uPjQCxBx8Pre-3k-sgI6WMhkSK72QrrGY1HPVhUlQ&amp;s\"/></div></a></td></tr><tr><td><a href=\"/url?q=https://www.carwow.co.uk/best/best-supercars&amp;sa=U&amp;ved=2ahUKEwivzc37odSAAxWhzjgGHZHNBt0Qr4kDegQICRAC&amp;usg=AOvVaw0wc7lBt_E4v3FVJ4v2hwDB\"><div class=\"jB2rPd\"> <span class=\"qXLe6d x3G5ab\"> <span class=\"fYyStc\">The best supercars and...</span> </span> <span class=\"qXLe6d F9iS2e\"> <span class=\"fYyStc\">www.carwow.co.uk</span> </span> </div></a></td></tr></table></div></div> </div> </div></td></tr><tr><td align=\"center\" class=\"e3goi\"><div class=\"mnTahd\"> <div> <div class=\"lIMUZd\"><div><table class=\"IkMU6e\"><tr><td><a href=\"/url?q=https://www.gq-magazine.co.uk/lifestyle/article/best-sports-cars&amp;sa=U&amp;ved=2ahUKEwivzc37odSAAxWhzjgGHZHNBt0QqoUBegQIEBAB&amp;usg=AOvVaw0UnurhUPKA_rr6WysWTeQ4\"><div class=\"NZWO1b\"><img alt=\"\" class=\"yWs4tf\" src=\"https://encrypted-tbn0.gstatic.com/images?q=tbn:ANd9GcSeq_hmhXWZdWpQsigoGXxaAuQ-6AAv5_cFT_yKduOALJmA4MJgI6BvSMhyM08&amp;s\"/></div></a></td></tr><tr><td><a href=\"/url?q=https://www.gq-magazine.co.uk/lifestyle/article/best-sports-cars&amp;sa=U&amp;ved=2ahUKEwivzc37odSAAxWhzjgGHZHNBt0Qr4kDegQIEBAC&amp;usg=AOvVaw3Y-Y6NGIVKCqIB0dcD5Qg_\"><div class=\"jB2rPd\"> <span class=\"qXLe6d x3G5ab\"> <span class=\"fYyStc\">Best sports cars ever |...</span> </span> <span class=\"qXLe6d F9iS2e\"> <span class=\"fYyStc\">www.gq-magazine.co.uk</span> </span> </div></a></td></tr></table></div></div> </div> </div></td><td align=\"center\" class=\"e3goi\"><div class=\"mnTahd\"> <div> <div class=\"lIMUZd\"><div><table class=\"IkMU6e\"><tr><td><a href=\"/url?q=https://www.popsci.com/technology/performance-cars-explained/&amp;sa=U&amp;ved=2ahUKEwivzc37odSAAxWhzjgGHZHNBt0QqoUBegQICxAB&amp;usg=AOvVaw3ngv4R172OpDKVB-Pgnn-Q\"><div class=\"NZWO1b\"><img alt=\"\" class=\"yWs4tf\" src=\"https://encrypted-tbn0.gstatic.com/images?q=tbn:ANd9GcTsD-jzbQgbJdTwM9KRd-5gY9SHfcwvKpWvnJj_pZaspYts3SoDolPQ9SACweo&amp;s\"/></div></a></td></tr><tr><td><a href=\"/url?q=https://www.popsci.com/technology/performance-cars-explained/&amp;sa=U&amp;ved=2ahUKEwivzc37odSAAxWhzjgGHZHNBt0Qr4kDegQICxAC&amp;usg=AOvVaw2sYHpSEJoVv3zUFqLzyft8\"><div class=\"jB2rPd\"> <span class=\"qXLe6d x3G5ab\"> <span class=\"fYyStc\">Sports car, supercar,...</span> </span> <span class=\"qXLe6d F9iS2e\"> <span class=\"fYyStc\">www.popsci.com</span> </span> </div></a></td></tr></table></div></div> </div> </div></td><td align=\"center\" class=\"e3goi\"><div class=\"mnTahd\"> <div> <div class=\"lIMUZd\"><div><table class=\"IkMU6e\"><tr><td><a href=\"/url?q=https://www.roadandtrack.com/car-culture/buying-maintenance/g6710/cheap-sports-cars/&amp;sa=U&amp;ved=2ahUKEwivzc37odSAAxWhzjgGHZHNBt0QqoUBegQIERAB&amp;usg=AOvVaw0HebNBjSXTNhmeJfw705HK\"><div class=\"NZWO1b\"><img alt=\"\" class=\"yWs4tf\" src=\"https://encrypted-tbn0.gstatic.com/images?q=tbn:ANd9GcQIXW7jkWMig6jdtIJqEXomQfItRTuLls0UWyc53AZDzVqEw5eAFyS9AbuZAAQ&amp;s\"/></div></a></td></tr><tr><td><a href=\"/url?q=https://www.roadandtrack.com/car-culture/buying-maintenance/g6710/cheap-sports-cars/&amp;sa=U&amp;ved=2ahUKEwivzc37odSAAxWhzjgGHZHNBt0Qr4kDegQIERAC&amp;usg=AOvVaw202-SKEI_JCeO0OEzZyjL9\"><div class=\"jB2rPd\"> <span class=\"qXLe6d x3G5ab\"> <span class=\"fYyStc\">Cheap Sports Cars for 2023...</span> </span> <span class=\"qXLe6d F9iS2e\"> <span class=\"fYyStc\">www.roadandtrack.com</span> </span> </div></a></td></tr></table></div></div> </div> </div></td><td align=\"center\" class=\"e3goi\"><div class=\"mnTahd\"> <div> <div class=\"lIMUZd\"><div><table class=\"IkMU6e\"><tr><td><a href=\"/url?q=https://www.cars24.com/blog/best-sports-cars-in-india-price-mileage-specifications/&amp;sa=U&amp;ved=2ahUKEwivzc37odSAAxWhzjgGHZHNBt0QqoUBegQIDRAB&amp;usg=AOvVaw3y2GeiyMo1VSpKk_NwrlVt\"><div class=\"NZWO1b\"><img alt=\"\" class=\"yWs4tf\" src=\"https://encrypted-tbn0.gstatic.com/images?q=tbn:ANd9GcQcOR1xJcDVVvrT2GZmW5JO8en4gY4vFRQAeIzWZBoBIpiTcAfnlYHHrHEktsg&amp;s\"/></div></a></td></tr><tr><td><a href=\"/url?q=https://www.cars24.com/blog/best-sports-cars-in-india-price-mileage-specifications/&amp;sa=U&amp;ved=2ahUKEwivzc37odSAAxWhzjgGHZHNBt0Qr4kDegQIDRAC&amp;usg=AOvVaw1cHmocCZ8qQZq18AY3ryg6\"><div class=\"jB2rPd\"> <span class=\"qXLe6d x3G5ab\"> <span class=\"fYyStc\">Best Sports Cars In India –...</span> </span> <span class=\"qXLe6d F9iS2e\"> <span class=\"fYyStc\">www.cars24.com</span> </span> </div></a></td></tr></table></div></div> </div> </div></td></tr><tr><td align=\"center\" class=\"e3goi\"><div class=\"mnTahd\"> <div> <div class=\"lIMUZd\"><div><table class=\"IkMU6e\"><tr><td><a href=\"/url?q=https://www.spinny.com/blog/index.php/best-sports-cars-in-india/&amp;sa=U&amp;ved=2ahUKEwivzc37odSAAxWhzjgGHZHNBt0QqoUBegQIChAB&amp;usg=AOvVaw3mlM2XXohai-iWOkl4F8Ls\"><div class=\"NZWO1b\"><img alt=\"\" class=\"yWs4tf\" src=\"https://encrypted-tbn0.gstatic.com/images?q=tbn:ANd9GcQoRi1uwf2oyQW3fi3UjUTVy0wrafoUC6Mq09-_bp1MPgkHMDHiAiEMQBSSqQ&amp;s\"/></div></a></td></tr><tr><td><a href=\"/url?q=https://www.spinny.com/blog/index.php/best-sports-cars-in-india/&amp;sa=U&amp;ved=2ahUKEwivzc37odSAAxWhzjgGHZHNBt0Qr4kDegQIChAC&amp;usg=AOvVaw0H3TowuEBTNcyLhEv967Sp\"><div class=\"jB2rPd\"> <span class=\"qXLe6d x3G5ab\"> <span class=\"fYyStc\">Explore the Best Sports...</span> </span> <span class=\"qXLe6d F9iS2e\"> <span class=\"fYyStc\">www.spinny.com</span> </span> </div></a></td></tr></table></div></div> </div> </div></td><td align=\"center\" class=\"e3goi\"><div class=\"mnTahd\"> <div> <div class=\"lIMUZd\"><div><table class=\"IkMU6e\"><tr><td><a href=\"/url?q=https://www.caranddriver.com/features/g27197524/best-sports-cars/&amp;sa=U&amp;ved=2ahUKEwivzc37odSAAxWhzjgGHZHNBt0QqoUBegQIDhAB&amp;usg=AOvVaw1HxYJVnlaKBTxQsZrJWwrX\"><div class=\"NZWO1b\"><img alt=\"\" class=\"yWs4tf\" src=\"https://encrypted-tbn0.gstatic.com/images?q=tbn:ANd9GcSU9VFHOdQkx8vn8Uhnm8pKBhiHf0I4FOgRVF2KJE6bULWmGMdXjONLm07M1A&amp;s\"/></div></a></td></tr><tr><td><a href=\"/url?q=https://www.caranddriver.com/features/g27197524/best-sports-cars/&amp;sa=U&amp;ved=2ahUKEwivzc37odSAAxWhzjgGHZHNBt0Qr4kDegQIDhAC&amp;usg=AOvVaw3XN22Svx6Mn33SddT7z1_r\"><div class=\"jB2rPd\"> <span class=\"qXLe6d x3G5ab\"> <span class=\"fYyStc\">Best New Sports Cars of...</span> </span> <span class=\"qXLe6d F9iS2e\"> <span class=\"fYyStc\">www.caranddriver.com</span> </span> </div></a></td></tr></table></div></div> </div> </div></td><td align=\"center\" class=\"e3goi\"><div class=\"mnTahd\"> <div> <div class=\"lIMUZd\"><div><table class=\"IkMU6e\"><tr><td><a href=\"/url?q=https://www.pexels.com/search/sports%2520car/&amp;sa=U&amp;ved=2ahUKEwivzc37odSAAxWhzjgGHZHNBt0QqoUBegQIDBAB&amp;usg=AOvVaw2PmoHliAaRaZKFGw0WdkOg\"><div class=\"NZWO1b\"><img alt=\"\" class=\"yWs4tf\" src=\"https://encrypted-tbn0.gstatic.com/images?q=tbn:ANd9GcSzWi4sUJBoWMTpWlSlHtf_GiIqCB-YPnIY4QqstX_2tio3h3veKVsVxUJkQA&amp;s\"/></div></a></td></tr><tr><td><a href=\"/url?q=https://www.pexels.com/search/sports%2520car/&amp;sa=U&amp;ved=2ahUKEwivzc37odSAAxWhzjgGHZHNBt0Qr4kDegQIDBAC&amp;usg=AOvVaw3m618WENWCnRRrZeBYxHQU\"><div class=\"jB2rPd\"> <span class=\"qXLe6d x3G5ab\"> <span class=\"fYyStc\">Sports Car Photos, Download...</span> </span> <span class=\"qXLe6d F9iS2e\"> <span class=\"fYyStc\">www.pexels.com</span> </span> </div></a></td></tr></table></div></div> </div> </div></td><td align=\"center\" class=\"e3goi\"><div class=\"mnTahd\"> <div> <div class=\"lIMUZd\"><div><table class=\"IkMU6e\"><tr><td><a href=\"/url?q=https://www.telegraph.co.uk/news/2017/11/11/lamborghini-creates-self-healing-sports-car/&amp;sa=U&amp;ved=2ahUKEwivzc37odSAAxWhzjgGHZHNBt0QqoUBegQIDxAB&amp;usg=AOvVaw3iq6mh3cH25a686VsF24WZ\"><div class=\"NZWO1b\"><img alt=\"\" class=\"yWs4tf\" src=\"https://encrypted-tbn0.gstatic.com/images?q=tbn:ANd9GcSIG8c397Z-8BQwwRiEu_aOmA5TQah8nmGE7SlP9KvNomTJ8t3uwTHXcb0u-2U&amp;s\"/></div></a></td></tr><tr><td><a href=\"/url?q=https://www.telegraph.co.uk/news/2017/11/11/lamborghini-creates-self-healing-sports-car/&amp;sa=U&amp;ved=2ahUKEwivzc37odSAAxWhzjgGHZHNBt0Qr4kDegQIDxAC&amp;usg=AOvVaw2hjTIzNVZG1zGNkS8HSRNF\"><div class=\"jB2rPd\"> <span class=\"qXLe6d x3G5ab\"> <span class=\"fYyStc\">Lamborghini creates world's...</span> </span> <span class=\"qXLe6d F9iS2e\"> <span class=\"fYyStc\">www.telegraph.co.uk</span> </span> </div></a></td></tr></table></div></div> </div> </div></td></tr><tr><td align=\"center\" class=\"e3goi\"><div class=\"mnTahd\"> <div> <div class=\"lIMUZd\"><div><table class=\"IkMU6e\"><tr><td><a href=\"/url?q=https://www.carmagazine.co.uk/best/sports-cars/&amp;sa=U&amp;ved=2ahUKEwivzc37odSAAxWhzjgGHZHNBt0QqoUBegQIBhAB&amp;usg=AOvVaw1Y5CLWkrg1fG-aqVfNL9jp\"><div class=\"NZWO1b\"><img alt=\"\" class=\"yWs4tf\" src=\"https://encrypted-tbn0.gstatic.com/images?q=tbn:ANd9GcToWaOLQPFLZOd-pUA0KyAfKX-NmZ0pJI-3m0KEoiAU5GDOpwSC31m7BT4hUYI&amp;s\"/></div></a></td></tr><tr><td><a href=\"/url?q=https://www.carmagazine.co.uk/best/sports-cars/&amp;sa=U&amp;ved=2ahUKEwivzc37odSAAxWhzjgGHZHNBt0Qr4kDegQIBhAC&amp;usg=AOvVaw2V-MFCihpFjpCBlFox6Fpw\"><div class=\"jB2rPd\"> <span class=\"qXLe6d x3G5ab\"> <span class=\"fYyStc\">Best sports cars 2022: 911...</span> </span> <span class=\"qXLe6d F9iS2e\"> <span class=\"fYyStc\">www.carmagazine.co.uk</span> </span> </div></a></td></tr></table></div></div> </div> </div></td><td align=\"center\" class=\"e3goi\"><div class=\"mnTahd\"> <div> <div class=\"lIMUZd\"><div><table class=\"IkMU6e\"><tr><td><a href=\"/url?q=https://www.forbes.com/sites/kbrauer/2020/10/26/these-are-the-25-fastest-cars-in-the-world-in-2020/&amp;sa=U&amp;ved=2ahUKEwivzc37odSAAxWhzjgGHZHNBt0QqoUBegQIAhAB&amp;usg=AOvVaw1gXIZam2ejliSB_XO97RDP\"><div class=\"NZWO1b\"><img alt=\"\" class=\"yWs4tf\" src=\"https://encrypted-tbn0.gstatic.com/images?q=tbn:ANd9GcQq7t87vfRmj4Fl1Ee0OBfOSS49oifrpo1fYWcgtrvY23FAX8hqvvoaZrRO4e4&amp;s\"/></div></a></td></tr><tr><td><a href=\"/url?q=https://www.forbes.com/sites/kbrauer/2020/10/26/these-are-the-25-fastest-cars-in-the-world-in-2020/&amp;sa=U&amp;ved=2ahUKEwivzc37odSAAxWhzjgGHZHNBt0Qr4kDegQIAhAC&amp;usg=AOvVaw0b_JGcxqqnCP9C6qb2Ozti\"><div class=\"jB2rPd\"> <span class=\"qXLe6d x3G5ab\"> <span class=\"fYyStc\">These Are The 25 Fastest...</span> </span> <span class=\"qXLe6d F9iS2e\"> <span class=\"fYyStc\">www.forbes.com</span> </span> </div></a></td></tr></table></div></div> </div> </div></td><td align=\"center\" class=\"e3goi\"><div class=\"mnTahd\"> <div> <div class=\"lIMUZd\"><div><table class=\"IkMU6e\"><tr><td><a href=\"/url?q=https://cars.usnews.com/cars-trucks/chevrolet/corvette&amp;sa=U&amp;ved=2ahUKEwivzc37odSAAxWhzjgGHZHNBt0QqoUBegQIBRAB&amp;usg=AOvVaw3Jn00VSVAeKu5r1DpU1dm1\"><div class=\"NZWO1b\"><img alt=\"\" class=\"yWs4tf\" src=\"https://encrypted-tbn0.gstatic.com/images?q=tbn:ANd9GcSS5fFNBWtmH2CNPsVDwpIT97g6z2VknKtnfj9rpjOa6VnNDck9jTNff1921BY&amp;s\"/></div></a></td></tr><tr><td><a href=\"/url?q=https://cars.usnews.com/cars-trucks/chevrolet/corvette&amp;sa=U&amp;ved=2ahUKEwivzc37odSAAxWhzjgGHZHNBt0Qr4kDegQIBRAC&amp;usg=AOvVaw00s1_tpUFOSKQ50bDzrxsI\"><div class=\"jB2rPd\"> <span class=\"qXLe6d x3G5ab\"> <span class=\"fYyStc\">2023 Chevrolet Corvette...</span> </span> <span class=\"qXLe6d F9iS2e\"> <span class=\"fYyStc\">cars.usnews.com</span> </span> </div></a></td></tr></table></div></div> </div> </div></td><td align=\"center\" class=\"e3goi\"><div class=\"mnTahd\"> <div> <div class=\"lIMUZd\"><div><table class=\"IkMU6e\"><tr><td><a href=\"/url?q=https://www.autocar.co.uk/car-news/best-cars/top-10-best-sports-cars&amp;sa=U&amp;ved=2ahUKEwivzc37odSAAxWhzjgGHZHNBt0QqoUBegQIABAB&amp;usg=AOvVaw2wngbWQztg1r3W4Mz4bIX_\"><div class=\"NZWO1b\"><img alt=\"\" class=\"yWs4tf\" src=\"https://encrypted-tbn0.gstatic.com/images?q=tbn:ANd9GcQjP5IiKsxORXr16gLx6G0lEqWN7EQkQjs3nPbyBIBvnDfpa3h_XUKtsg3PJg&amp;s\"/></div></a></td></tr><tr><td><a href=\"/url?q=https://www.autocar.co.uk/car-news/best-cars/top-10-best-sports-cars&amp;sa=U&amp;ved=2ahUKEwivzc37odSAAxWhzjgGHZHNBt0Qr4kDegQIABAC&amp;usg=AOvVaw3RPPGjPSFl4lxzOHmFYD4S\"><div class=\"jB2rPd\"> <span class=\"qXLe6d x3G5ab\"> <span class=\"fYyStc\">Top 10 best sports cars...</span> </span> <span class=\"qXLe6d F9iS2e\"> <span class=\"fYyStc\">www.autocar.co.uk</span> </span> </div></a></td></tr></table></div></div> </div> </div></td></tr><tr><td align=\"center\" class=\"e3goi\"><div class=\"mnTahd\"> <div> <div class=\"lIMUZd\"><div><table class=\"IkMU6e\"><tr><td><a href=\"/url?q=https://www.amarisupercars.com/&amp;sa=U&amp;ved=2ahUKEwivzc37odSAAxWhzjgGHZHNBt0QqoUBegQIBBAB&amp;usg=AOvVaw2fcYHPZDgkWhCYbikYLoAc\"><div class=\"NZWO1b\"><img alt=\"\" class=\"yWs4tf\" src=\"https://encrypted-tbn0.gstatic.com/images?q=tbn:ANd9GcQh204wj1Yw9EnCt7ZvgP4mFZAopJr4IFWKxSNFgms2wW5ud3plyiW1rXDykQ&amp;s\"/></div></a></td></tr><tr><td><a href=\"/url?q=https://www.amarisupercars.com/&amp;sa=U&amp;ved=2ahUKEwivzc37odSAAxWhzjgGHZHNBt0Qr4kDegQIBBAC&amp;usg=AOvVaw2sRWHCZypLrHgvarZl2OhB\"><div class=\"jB2rPd\"> <span class=\"qXLe6d x3G5ab\"> <span class=\"fYyStc\">Supercars &amp; Sports Cars for...</span> </span> <span class=\"qXLe6d F9iS2e\"> <span class=\"fYyStc\">www.amarisupercars.com</span> </span> </div></a></td></tr></table></div></div> </div> </div></td><td align=\"center\" class=\"e3goi\"><div class=\"mnTahd\"> <div> <div class=\"lIMUZd\"><div><table class=\"IkMU6e\"><tr><td><a href=\"/url?q=https://www.caranddriver.com/features/g27197524/best-sports-cars/&amp;sa=U&amp;ved=2ahUKEwivzc37odSAAxWhzjgGHZHNBt0QqoUBegQICBAB&amp;usg=AOvVaw0q_k27I8o5L6kI3zTO0bLf\"><div class=\"NZWO1b\"><img alt=\"\" class=\"yWs4tf\" src=\"https://encrypted-tbn0.gstatic.com/images?q=tbn:ANd9GcT5neNvjOT1lu08ek_wsfrQvSkPxk-JNlQX-GItLaq6NAl34MNTCmYWBDwqPNU&amp;s\"/></div></a></td></tr><tr><td><a href=\"/url?q=https://www.caranddriver.com/features/g27197524/best-sports-cars/&amp;sa=U&amp;ved=2ahUKEwivzc37odSAAxWhzjgGHZHNBt0Qr4kDegQICBAC&amp;usg=AOvVaw2r8d3v-a9gnnIL_aSiMcEN\"><div class=\"jB2rPd\"> <span class=\"qXLe6d x3G5ab\"> <span class=\"fYyStc\">Best New Sports Cars of...</span> </span> <span class=\"qXLe6d F9iS2e\"> <span class=\"fYyStc\">www.caranddriver.com</span> </span> </div></a></td></tr></table></div></div> </div> </div></td><td align=\"center\" class=\"e3goi\"><div class=\"mnTahd\"> <div> <div class=\"lIMUZd\"><div><table class=\"IkMU6e\"><tr><td><a href=\"/url?q=https://www.motor1.com/news/600685/ferrari-confident-ev-offset-extra-weight/&amp;sa=U&amp;ved=2ahUKEwivzc37odSAAxWhzjgGHZHNBt0QqoUBegQIBxAB&amp;usg=AOvVaw1fjtvMJwi2hdcTC7EPhNPx\"><div class=\"NZWO1b\"><img alt=\"\" class=\"yWs4tf\" src=\"https://encrypted-tbn0.gstatic.com/images?q=tbn:ANd9GcQ1cFFQGzxiZuqL8s9Fgc_AzH219u-yG4jD-FK6OWQw700_8UcG9JRi_Hikhg&amp;s\"/></div></a></td></tr><tr><td><a href=\"/url?q=https://www.motor1.com/news/600685/ferrari-confident-ev-offset-extra-weight/&amp;sa=U&amp;ved=2ahUKEwivzc37odSAAxWhzjgGHZHNBt0Qr4kDegQIBxAC&amp;usg=AOvVaw2Jvv7JHY8e6-InHR4epNyE\"><div class=\"jB2rPd\"> <span class=\"qXLe6d x3G5ab\"> <span class=\"fYyStc\">Ferrari Boss Confident 2025...</span> </span> <span class=\"qXLe6d F9iS2e\"> <span class=\"fYyStc\">www.motor1.com</span> </span> </div></a></td></tr></table></div></div> </div> </div></td><td align=\"center\" class=\"e3goi\"><div class=\"mnTahd\"> <div> <div class=\"lIMUZd\"><div><table class=\"IkMU6e\"><tr><td><a href=\"/url?q=https://www.freepik.com/photos/sports-car&amp;sa=U&amp;ved=2ahUKEwivzc37odSAAxWhzjgGHZHNBt0QqoUBegQIARAB&amp;usg=AOvVaw3EIbblVeFwNyVzKXN_WT-R\"><div class=\"NZWO1b\"><img alt=\"\" class=\"yWs4tf\" src=\"https://encrypted-tbn0.gstatic.com/images?q=tbn:ANd9GcTks05FrH40kQ_s4gGUQHyNb3Rpm0XJKDADeIzxjY8JoovJbCGkKFWXZ1OkqpU&amp;s\"/></div></a></td></tr><tr><td><a href=\"/url?q=https://www.freepik.com/photos/sports-car&amp;sa=U&amp;ved=2ahUKEwivzc37odSAAxWhzjgGHZHNBt0Qr4kDegQIARAC&amp;usg=AOvVaw0QjbaTCKB7Rk3BtZB0U4dJ\"><div class=\"jB2rPd\"> <span class=\"qXLe6d x3G5ab\"> <span class=\"fYyStc\">14,000+ Sports Car Pictures...</span> </span> <span class=\"qXLe6d F9iS2e\"> <span class=\"fYyStc\">www.freepik.com</span> </span> </div></a></td></tr></table></div></div> </div> </div></td></tr></table></div><table class=\"uZgmoc\"><tbody><td><a class=\"frGj1b\" href=\"/search?q=Sports+Cars&amp;sca_esv=555418388&amp;biw=1710&amp;bih=921&amp;ie=UTF-8&amp;tbm=isch&amp;ei=q_vVZO_LNaGd4-EPkZub6A0&amp;start=20&amp;sa=N\">Next &gt;</a></td></tbody></table><br/><div class=\"TuS8Ad\" data-ved=\"0ahUKEwivzc37odSAAxWhzjgGHZHNBt0QpyoIUg\"><style>.VYM29{font-weight:bold}</style><div align=\"center\" class=\"HddGcc\"><span class=\"VYM29\">Siliguri, West Bengal</span><span> - </span><span>From your IP address</span><span> - </span><a href=\"/url?q=https://support.google.com/websearch%3Fp%3Dws_settings_location%26hl%3Den-IN&amp;sa=U&amp;ved=0ahUKEwivzc37odSAAxWhzjgGHZHNBt0Qty4IUw&amp;usg=AOvVaw0l_ixikbnFiSIgTmhfa2Qb\">Learn more</a></div><div align=\"center\"><a class=\"rEM8G\" href=\"/url?q=https://accounts.google.com/ServiceLogin%3Fcontinue%3Dhttps://www.google.com/search%253Fsca_esv%253D555418388%2526sxsrf%253DAB5stBiG6BNlPufmTxmm85N9byuiAYlCrg:1691662262725%2526q%253DSports%252BCars%2526tbm%253Disch%2526source%253Dlnms%2526sa%253DX%2526ved%253D2ahUKEwjrmf-B7dGAAxXpa2wGHYyeBukQ0pQJegQIDBAB%2526biw%253D1710%2526bih%253D921%2526dpr%253D2%26hl%3Den&amp;sa=U&amp;ved=0ahUKEwivzc37odSAAxWhzjgGHZHNBt0Qxs8CCFQ&amp;usg=AOvVaw31gAS3L4S8ho-fKObUK5io\">Sign in</a></div><div><table class=\"bookcf\"><tbody class=\"InWNIe\"><tr><td><a class=\"rEM8G\" href=\"https://www.google.com/preferences?hl=en&amp;sa=X&amp;ved=0ahUKEwivzc37odSAAxWhzjgGHZHNBt0Qv5YECFU\">Settings</a></td><td><a class=\"rEM8G\" href=\"https://www.google.com/intl/en_in/policies/privacy/\">Privacy</a></td><td><a class=\"rEM8G\" href=\"https://www.google.com/intl/en_in/policies/terms/\">Terms</a></td></tr></tbody></table></div></div><div> </div></body></html>"
      ]
     },
     "execution_count": 5,
     "metadata": {},
     "output_type": "execute_result"
    }
   ],
   "source": [
    "soup = BeautifulSoup(response.content,\"html.parser\")\n",
    "soup"
   ]
  },
  {
   "cell_type": "code",
   "execution_count": 6,
   "id": "3f2e4e8b",
   "metadata": {},
   "outputs": [
    {
     "data": {
      "text/plain": [
       "[<img alt=\"Google\" class=\"kgJEQe\" src=\"/images/branding/searchlogo/1x/googlelogo_desk_heirloom_color_150x55dp.gif\"/>,\n",
       " <img alt=\"\" class=\"yWs4tf\" src=\"https://encrypted-tbn0.gstatic.com/images?q=tbn:ANd9GcRl4kn4y-QEL0P-ciUnZVXml9VsnMuCCVzze-CMuChk1dsaPmra20ElNqVbcEs&amp;s\"/>,\n",
       " <img alt=\"\" class=\"yWs4tf\" src=\"https://encrypted-tbn0.gstatic.com/images?q=tbn:ANd9GcT9pDyWl5vG4CC9qvSD747-mombqIE162ktI6WOTXVQRgW_e-a0gRU8bYkOWXY&amp;s\"/>,\n",
       " <img alt=\"\" class=\"yWs4tf\" src=\"https://encrypted-tbn0.gstatic.com/images?q=tbn:ANd9GcTFlByiyrn-gb8YlshcDTugExFgnXIbHUzjw-TvUNQYJFUw_cm2AkVsrXQnBQs&amp;s\"/>,\n",
       " <img alt=\"\" class=\"yWs4tf\" src=\"https://encrypted-tbn0.gstatic.com/images?q=tbn:ANd9GcRPfdTL56hF87XAKEsl9uPjQCxBx8Pre-3k-sgI6WMhkSK72QrrGY1HPVhUlQ&amp;s\"/>,\n",
       " <img alt=\"\" class=\"yWs4tf\" src=\"https://encrypted-tbn0.gstatic.com/images?q=tbn:ANd9GcSeq_hmhXWZdWpQsigoGXxaAuQ-6AAv5_cFT_yKduOALJmA4MJgI6BvSMhyM08&amp;s\"/>,\n",
       " <img alt=\"\" class=\"yWs4tf\" src=\"https://encrypted-tbn0.gstatic.com/images?q=tbn:ANd9GcTsD-jzbQgbJdTwM9KRd-5gY9SHfcwvKpWvnJj_pZaspYts3SoDolPQ9SACweo&amp;s\"/>,\n",
       " <img alt=\"\" class=\"yWs4tf\" src=\"https://encrypted-tbn0.gstatic.com/images?q=tbn:ANd9GcQIXW7jkWMig6jdtIJqEXomQfItRTuLls0UWyc53AZDzVqEw5eAFyS9AbuZAAQ&amp;s\"/>,\n",
       " <img alt=\"\" class=\"yWs4tf\" src=\"https://encrypted-tbn0.gstatic.com/images?q=tbn:ANd9GcQcOR1xJcDVVvrT2GZmW5JO8en4gY4vFRQAeIzWZBoBIpiTcAfnlYHHrHEktsg&amp;s\"/>,\n",
       " <img alt=\"\" class=\"yWs4tf\" src=\"https://encrypted-tbn0.gstatic.com/images?q=tbn:ANd9GcQoRi1uwf2oyQW3fi3UjUTVy0wrafoUC6Mq09-_bp1MPgkHMDHiAiEMQBSSqQ&amp;s\"/>,\n",
       " <img alt=\"\" class=\"yWs4tf\" src=\"https://encrypted-tbn0.gstatic.com/images?q=tbn:ANd9GcSU9VFHOdQkx8vn8Uhnm8pKBhiHf0I4FOgRVF2KJE6bULWmGMdXjONLm07M1A&amp;s\"/>,\n",
       " <img alt=\"\" class=\"yWs4tf\" src=\"https://encrypted-tbn0.gstatic.com/images?q=tbn:ANd9GcSzWi4sUJBoWMTpWlSlHtf_GiIqCB-YPnIY4QqstX_2tio3h3veKVsVxUJkQA&amp;s\"/>,\n",
       " <img alt=\"\" class=\"yWs4tf\" src=\"https://encrypted-tbn0.gstatic.com/images?q=tbn:ANd9GcSIG8c397Z-8BQwwRiEu_aOmA5TQah8nmGE7SlP9KvNomTJ8t3uwTHXcb0u-2U&amp;s\"/>,\n",
       " <img alt=\"\" class=\"yWs4tf\" src=\"https://encrypted-tbn0.gstatic.com/images?q=tbn:ANd9GcToWaOLQPFLZOd-pUA0KyAfKX-NmZ0pJI-3m0KEoiAU5GDOpwSC31m7BT4hUYI&amp;s\"/>,\n",
       " <img alt=\"\" class=\"yWs4tf\" src=\"https://encrypted-tbn0.gstatic.com/images?q=tbn:ANd9GcQq7t87vfRmj4Fl1Ee0OBfOSS49oifrpo1fYWcgtrvY23FAX8hqvvoaZrRO4e4&amp;s\"/>,\n",
       " <img alt=\"\" class=\"yWs4tf\" src=\"https://encrypted-tbn0.gstatic.com/images?q=tbn:ANd9GcSS5fFNBWtmH2CNPsVDwpIT97g6z2VknKtnfj9rpjOa6VnNDck9jTNff1921BY&amp;s\"/>,\n",
       " <img alt=\"\" class=\"yWs4tf\" src=\"https://encrypted-tbn0.gstatic.com/images?q=tbn:ANd9GcQjP5IiKsxORXr16gLx6G0lEqWN7EQkQjs3nPbyBIBvnDfpa3h_XUKtsg3PJg&amp;s\"/>,\n",
       " <img alt=\"\" class=\"yWs4tf\" src=\"https://encrypted-tbn0.gstatic.com/images?q=tbn:ANd9GcQh204wj1Yw9EnCt7ZvgP4mFZAopJr4IFWKxSNFgms2wW5ud3plyiW1rXDykQ&amp;s\"/>,\n",
       " <img alt=\"\" class=\"yWs4tf\" src=\"https://encrypted-tbn0.gstatic.com/images?q=tbn:ANd9GcT5neNvjOT1lu08ek_wsfrQvSkPxk-JNlQX-GItLaq6NAl34MNTCmYWBDwqPNU&amp;s\"/>,\n",
       " <img alt=\"\" class=\"yWs4tf\" src=\"https://encrypted-tbn0.gstatic.com/images?q=tbn:ANd9GcQ1cFFQGzxiZuqL8s9Fgc_AzH219u-yG4jD-FK6OWQw700_8UcG9JRi_Hikhg&amp;s\"/>,\n",
       " <img alt=\"\" class=\"yWs4tf\" src=\"https://encrypted-tbn0.gstatic.com/images?q=tbn:ANd9GcTks05FrH40kQ_s4gGUQHyNb3Rpm0XJKDADeIzxjY8JoovJbCGkKFWXZ1OkqpU&amp;s\"/>]"
      ]
     },
     "execution_count": 6,
     "metadata": {},
     "output_type": "execute_result"
    }
   ],
   "source": [
    "image_tags = soup.find_all(\"img\")\n",
    "image_tags"
   ]
  },
  {
   "cell_type": "code",
   "execution_count": 7,
   "id": "27121eb6",
   "metadata": {},
   "outputs": [
    {
     "data": {
      "text/plain": [
       "<img alt=\"Google\" class=\"kgJEQe\" src=\"/images/branding/searchlogo/1x/googlelogo_desk_heirloom_color_150x55dp.gif\"/>"
      ]
     },
     "execution_count": 7,
     "metadata": {},
     "output_type": "execute_result"
    }
   ],
   "source": [
    "image_tags[0] # the first one in the list is an image that google provides and it's not relevant so we can delete it."
   ]
  },
  {
   "cell_type": "code",
   "execution_count": 8,
   "id": "d98c5dac",
   "metadata": {},
   "outputs": [],
   "source": [
    "del image_tags[0]"
   ]
  },
  {
   "cell_type": "code",
   "execution_count": 9,
   "id": "f202496c",
   "metadata": {},
   "outputs": [
    {
     "data": {
      "text/plain": [
       "[<img alt=\"\" class=\"yWs4tf\" src=\"https://encrypted-tbn0.gstatic.com/images?q=tbn:ANd9GcRl4kn4y-QEL0P-ciUnZVXml9VsnMuCCVzze-CMuChk1dsaPmra20ElNqVbcEs&amp;s\"/>,\n",
       " <img alt=\"\" class=\"yWs4tf\" src=\"https://encrypted-tbn0.gstatic.com/images?q=tbn:ANd9GcT9pDyWl5vG4CC9qvSD747-mombqIE162ktI6WOTXVQRgW_e-a0gRU8bYkOWXY&amp;s\"/>,\n",
       " <img alt=\"\" class=\"yWs4tf\" src=\"https://encrypted-tbn0.gstatic.com/images?q=tbn:ANd9GcTFlByiyrn-gb8YlshcDTugExFgnXIbHUzjw-TvUNQYJFUw_cm2AkVsrXQnBQs&amp;s\"/>,\n",
       " <img alt=\"\" class=\"yWs4tf\" src=\"https://encrypted-tbn0.gstatic.com/images?q=tbn:ANd9GcRPfdTL56hF87XAKEsl9uPjQCxBx8Pre-3k-sgI6WMhkSK72QrrGY1HPVhUlQ&amp;s\"/>,\n",
       " <img alt=\"\" class=\"yWs4tf\" src=\"https://encrypted-tbn0.gstatic.com/images?q=tbn:ANd9GcSeq_hmhXWZdWpQsigoGXxaAuQ-6AAv5_cFT_yKduOALJmA4MJgI6BvSMhyM08&amp;s\"/>,\n",
       " <img alt=\"\" class=\"yWs4tf\" src=\"https://encrypted-tbn0.gstatic.com/images?q=tbn:ANd9GcTsD-jzbQgbJdTwM9KRd-5gY9SHfcwvKpWvnJj_pZaspYts3SoDolPQ9SACweo&amp;s\"/>,\n",
       " <img alt=\"\" class=\"yWs4tf\" src=\"https://encrypted-tbn0.gstatic.com/images?q=tbn:ANd9GcQIXW7jkWMig6jdtIJqEXomQfItRTuLls0UWyc53AZDzVqEw5eAFyS9AbuZAAQ&amp;s\"/>,\n",
       " <img alt=\"\" class=\"yWs4tf\" src=\"https://encrypted-tbn0.gstatic.com/images?q=tbn:ANd9GcQcOR1xJcDVVvrT2GZmW5JO8en4gY4vFRQAeIzWZBoBIpiTcAfnlYHHrHEktsg&amp;s\"/>,\n",
       " <img alt=\"\" class=\"yWs4tf\" src=\"https://encrypted-tbn0.gstatic.com/images?q=tbn:ANd9GcQoRi1uwf2oyQW3fi3UjUTVy0wrafoUC6Mq09-_bp1MPgkHMDHiAiEMQBSSqQ&amp;s\"/>,\n",
       " <img alt=\"\" class=\"yWs4tf\" src=\"https://encrypted-tbn0.gstatic.com/images?q=tbn:ANd9GcSU9VFHOdQkx8vn8Uhnm8pKBhiHf0I4FOgRVF2KJE6bULWmGMdXjONLm07M1A&amp;s\"/>,\n",
       " <img alt=\"\" class=\"yWs4tf\" src=\"https://encrypted-tbn0.gstatic.com/images?q=tbn:ANd9GcSzWi4sUJBoWMTpWlSlHtf_GiIqCB-YPnIY4QqstX_2tio3h3veKVsVxUJkQA&amp;s\"/>,\n",
       " <img alt=\"\" class=\"yWs4tf\" src=\"https://encrypted-tbn0.gstatic.com/images?q=tbn:ANd9GcSIG8c397Z-8BQwwRiEu_aOmA5TQah8nmGE7SlP9KvNomTJ8t3uwTHXcb0u-2U&amp;s\"/>,\n",
       " <img alt=\"\" class=\"yWs4tf\" src=\"https://encrypted-tbn0.gstatic.com/images?q=tbn:ANd9GcToWaOLQPFLZOd-pUA0KyAfKX-NmZ0pJI-3m0KEoiAU5GDOpwSC31m7BT4hUYI&amp;s\"/>,\n",
       " <img alt=\"\" class=\"yWs4tf\" src=\"https://encrypted-tbn0.gstatic.com/images?q=tbn:ANd9GcQq7t87vfRmj4Fl1Ee0OBfOSS49oifrpo1fYWcgtrvY23FAX8hqvvoaZrRO4e4&amp;s\"/>,\n",
       " <img alt=\"\" class=\"yWs4tf\" src=\"https://encrypted-tbn0.gstatic.com/images?q=tbn:ANd9GcSS5fFNBWtmH2CNPsVDwpIT97g6z2VknKtnfj9rpjOa6VnNDck9jTNff1921BY&amp;s\"/>,\n",
       " <img alt=\"\" class=\"yWs4tf\" src=\"https://encrypted-tbn0.gstatic.com/images?q=tbn:ANd9GcQjP5IiKsxORXr16gLx6G0lEqWN7EQkQjs3nPbyBIBvnDfpa3h_XUKtsg3PJg&amp;s\"/>,\n",
       " <img alt=\"\" class=\"yWs4tf\" src=\"https://encrypted-tbn0.gstatic.com/images?q=tbn:ANd9GcQh204wj1Yw9EnCt7ZvgP4mFZAopJr4IFWKxSNFgms2wW5ud3plyiW1rXDykQ&amp;s\"/>,\n",
       " <img alt=\"\" class=\"yWs4tf\" src=\"https://encrypted-tbn0.gstatic.com/images?q=tbn:ANd9GcT5neNvjOT1lu08ek_wsfrQvSkPxk-JNlQX-GItLaq6NAl34MNTCmYWBDwqPNU&amp;s\"/>,\n",
       " <img alt=\"\" class=\"yWs4tf\" src=\"https://encrypted-tbn0.gstatic.com/images?q=tbn:ANd9GcQ1cFFQGzxiZuqL8s9Fgc_AzH219u-yG4jD-FK6OWQw700_8UcG9JRi_Hikhg&amp;s\"/>,\n",
       " <img alt=\"\" class=\"yWs4tf\" src=\"https://encrypted-tbn0.gstatic.com/images?q=tbn:ANd9GcTks05FrH40kQ_s4gGUQHyNb3Rpm0XJKDADeIzxjY8JoovJbCGkKFWXZ1OkqpU&amp;s\"/>]"
      ]
     },
     "execution_count": 9,
     "metadata": {},
     "output_type": "execute_result"
    }
   ],
   "source": [
    "image_tags"
   ]
  },
  {
   "cell_type": "code",
   "execution_count": 10,
   "id": "0bd6ac1a",
   "metadata": {},
   "outputs": [
    {
     "data": {
      "text/plain": [
       "20"
      ]
     },
     "execution_count": 10,
     "metadata": {},
     "output_type": "execute_result"
    }
   ],
   "source": [
    "len(image_tags)"
   ]
  },
  {
   "cell_type": "code",
   "execution_count": 11,
   "id": "69403275",
   "metadata": {},
   "outputs": [
    {
     "name": "stdout",
     "output_type": "stream",
     "text": [
      "https://encrypted-tbn0.gstatic.com/images?q=tbn:ANd9GcRl4kn4y-QEL0P-ciUnZVXml9VsnMuCCVzze-CMuChk1dsaPmra20ElNqVbcEs&s\n",
      "https://encrypted-tbn0.gstatic.com/images?q=tbn:ANd9GcT9pDyWl5vG4CC9qvSD747-mombqIE162ktI6WOTXVQRgW_e-a0gRU8bYkOWXY&s\n",
      "https://encrypted-tbn0.gstatic.com/images?q=tbn:ANd9GcTFlByiyrn-gb8YlshcDTugExFgnXIbHUzjw-TvUNQYJFUw_cm2AkVsrXQnBQs&s\n",
      "https://encrypted-tbn0.gstatic.com/images?q=tbn:ANd9GcRPfdTL56hF87XAKEsl9uPjQCxBx8Pre-3k-sgI6WMhkSK72QrrGY1HPVhUlQ&s\n",
      "https://encrypted-tbn0.gstatic.com/images?q=tbn:ANd9GcSeq_hmhXWZdWpQsigoGXxaAuQ-6AAv5_cFT_yKduOALJmA4MJgI6BvSMhyM08&s\n",
      "https://encrypted-tbn0.gstatic.com/images?q=tbn:ANd9GcTsD-jzbQgbJdTwM9KRd-5gY9SHfcwvKpWvnJj_pZaspYts3SoDolPQ9SACweo&s\n",
      "https://encrypted-tbn0.gstatic.com/images?q=tbn:ANd9GcQIXW7jkWMig6jdtIJqEXomQfItRTuLls0UWyc53AZDzVqEw5eAFyS9AbuZAAQ&s\n",
      "https://encrypted-tbn0.gstatic.com/images?q=tbn:ANd9GcQcOR1xJcDVVvrT2GZmW5JO8en4gY4vFRQAeIzWZBoBIpiTcAfnlYHHrHEktsg&s\n",
      "https://encrypted-tbn0.gstatic.com/images?q=tbn:ANd9GcQoRi1uwf2oyQW3fi3UjUTVy0wrafoUC6Mq09-_bp1MPgkHMDHiAiEMQBSSqQ&s\n",
      "https://encrypted-tbn0.gstatic.com/images?q=tbn:ANd9GcSU9VFHOdQkx8vn8Uhnm8pKBhiHf0I4FOgRVF2KJE6bULWmGMdXjONLm07M1A&s\n",
      "https://encrypted-tbn0.gstatic.com/images?q=tbn:ANd9GcSzWi4sUJBoWMTpWlSlHtf_GiIqCB-YPnIY4QqstX_2tio3h3veKVsVxUJkQA&s\n",
      "https://encrypted-tbn0.gstatic.com/images?q=tbn:ANd9GcSIG8c397Z-8BQwwRiEu_aOmA5TQah8nmGE7SlP9KvNomTJ8t3uwTHXcb0u-2U&s\n",
      "https://encrypted-tbn0.gstatic.com/images?q=tbn:ANd9GcToWaOLQPFLZOd-pUA0KyAfKX-NmZ0pJI-3m0KEoiAU5GDOpwSC31m7BT4hUYI&s\n",
      "https://encrypted-tbn0.gstatic.com/images?q=tbn:ANd9GcQq7t87vfRmj4Fl1Ee0OBfOSS49oifrpo1fYWcgtrvY23FAX8hqvvoaZrRO4e4&s\n",
      "https://encrypted-tbn0.gstatic.com/images?q=tbn:ANd9GcSS5fFNBWtmH2CNPsVDwpIT97g6z2VknKtnfj9rpjOa6VnNDck9jTNff1921BY&s\n",
      "https://encrypted-tbn0.gstatic.com/images?q=tbn:ANd9GcQjP5IiKsxORXr16gLx6G0lEqWN7EQkQjs3nPbyBIBvnDfpa3h_XUKtsg3PJg&s\n",
      "https://encrypted-tbn0.gstatic.com/images?q=tbn:ANd9GcQh204wj1Yw9EnCt7ZvgP4mFZAopJr4IFWKxSNFgms2wW5ud3plyiW1rXDykQ&s\n",
      "https://encrypted-tbn0.gstatic.com/images?q=tbn:ANd9GcT5neNvjOT1lu08ek_wsfrQvSkPxk-JNlQX-GItLaq6NAl34MNTCmYWBDwqPNU&s\n",
      "https://encrypted-tbn0.gstatic.com/images?q=tbn:ANd9GcQ1cFFQGzxiZuqL8s9Fgc_AzH219u-yG4jD-FK6OWQw700_8UcG9JRi_Hikhg&s\n",
      "https://encrypted-tbn0.gstatic.com/images?q=tbn:ANd9GcTks05FrH40kQ_s4gGUQHyNb3Rpm0XJKDADeIzxjY8JoovJbCGkKFWXZ1OkqpU&s\n"
     ]
    }
   ],
   "source": [
    "for i in image_tags:\n",
    "    print(i['src'])"
   ]
  },
  {
   "cell_type": "code",
   "execution_count": 12,
   "id": "ec082194",
   "metadata": {},
   "outputs": [],
   "source": [
    "for i in image_tags:\n",
    "    image_url = i['src']\n",
    "    image_data = requests.get(image_url).content\n",
    "    with open(os.path.join(save_dir,f\"{query}_{image_tags.index(i)}.jpg\"),\"wb\") as f:\n",
    "        f.write(image_data)"
   ]
  },
  {
   "cell_type": "code",
   "execution_count": null,
   "id": "2cae29e9",
   "metadata": {},
   "outputs": [],
   "source": []
  }
 ],
 "metadata": {
  "kernelspec": {
   "display_name": "Python 3 (ipykernel)",
   "language": "python",
   "name": "python3"
  },
  "language_info": {
   "codemirror_mode": {
    "name": "ipython",
    "version": 3
   },
   "file_extension": ".py",
   "mimetype": "text/x-python",
   "name": "python",
   "nbconvert_exporter": "python",
   "pygments_lexer": "ipython3",
   "version": "3.11.3"
  }
 },
 "nbformat": 4,
 "nbformat_minor": 5
}
